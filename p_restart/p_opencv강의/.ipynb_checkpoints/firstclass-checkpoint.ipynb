{
 "cells": [
  {
   "cell_type": "code",
   "execution_count": 9,
   "id": "c31c8623",
   "metadata": {},
   "outputs": [
    {
     "data": {
      "text/plain": [
       "'4.7.0'"
      ]
     },
     "execution_count": 9,
     "metadata": {},
     "output_type": "execute_result"
    }
   ],
   "source": [
    "import cv2\n",
    "cv2.__version__"
   ]
  },
  {
   "cell_type": "markdown",
   "id": "5d202cf7",
   "metadata": {},
   "source": [
    "# 1. 이미지 출력"
   ]
  },
  {
   "cell_type": "code",
   "execution_count": 16,
   "id": "63597e22",
   "metadata": {},
   "outputs": [],
   "source": [
    "import cv2\n",
    "img = cv2.imread('img.jpg')\n",
    "cv2.imshow('img',img)\n",
    "cv2.waitKey(0)\n",
    "cv2.destroyAllWindows()"
   ]
  },
  {
   "cell_type": "markdown",
   "id": "4afd96f4",
   "metadata": {},
   "source": [
    "## 읽기 옵션\n",
    "1. cv2.IMREAD_COLOR : 컬러이미지, 투명영역 무시(기본값)\n",
    "1. cv2.IMREAD_GRAYSCALE : 흑백이미지\n",
    "1. cv2.IMREAD_UNCHANGED : 투명영역까지 포함"
   ]
  },
  {
   "cell_type": "code",
   "execution_count": 18,
   "id": "1c85c6ac",
   "metadata": {},
   "outputs": [],
   "source": [
    "import cv2\n",
    "img_gray = cv2.imread('img.jpg',cv2.IMREAD_GRAYSCALE)\n",
    "cv2.imshow('img_gray',img_gray)\n",
    "cv2.waitKey(0)\n",
    "cv2.destroyAllWindows()"
   ]
  },
  {
   "cell_type": "markdown",
   "id": "c4afe578",
   "metadata": {},
   "source": [
    "## shape"
   ]
  },
  {
   "cell_type": "code",
   "execution_count": 19,
   "id": "f9e9ec8f",
   "metadata": {},
   "outputs": [
    {
     "data": {
      "text/plain": [
       "(391, 640, 3)"
      ]
     },
     "execution_count": 19,
     "metadata": {},
     "output_type": "execute_result"
    }
   ],
   "source": [
    "import cv2\n",
    "img = cv2.imread('img.jpg')\n",
    "img.shape # 가로 세로 체널"
   ]
  },
  {
   "cell_type": "markdown",
   "id": "c105a4b8",
   "metadata": {},
   "source": [
    "# 2. 동영상출력"
   ]
  },
  {
   "cell_type": "markdown",
   "id": "8f1b4b83",
   "metadata": {},
   "source": [
    "## 동영상 파일 출력"
   ]
  },
  {
   "cell_type": "code",
   "execution_count": 21,
   "id": "988e330a",
   "metadata": {},
   "outputs": [
    {
     "name": "stdout",
     "output_type": "stream",
     "text": [
      "동영상 끝\n"
     ]
    }
   ],
   "source": [
    "import cv2\n",
    "cap = cv2.VideoCapture('vedio.mp4')\n",
    "while cap.isOpened(): # 동영상 올바르게 열렸는지\n",
    "    ret, frame = cap.read()  # 성공여부 , 이미지\n",
    "    if not ret :\n",
    "        print('동영상 끝')\n",
    "        break\n",
    "    cv2.imshow('vedio',frame)\n",
    "    \n",
    "    if cv2.waitKey (1) == ord('q'):\n",
    "        print('q눌러서 종료')\n",
    "        break\n",
    "\n",
    "cap.release() # 자원해제\n",
    "cv2.destroyAllWindows()"
   ]
  },
  {
   "cell_type": "markdown",
   "id": "31fb2969",
   "metadata": {},
   "source": [
    "## 카메라 출력"
   ]
  },
  {
   "cell_type": "code",
   "execution_count": 25,
   "id": "e90f573a",
   "metadata": {},
   "outputs": [],
   "source": [
    "import cv2\n",
    "cap= cv2.VideoCapture(0)\n",
    "\n",
    "if not cap.isOpened ():\n",
    "    exit()\n",
    "    \n",
    "while True:\n",
    "    ret, frame = cap.read()\n",
    "    if not ret :\n",
    "        break\n",
    "    cv2.imshow('camera',frame)\n",
    "    if cv2.waitKey (1) == ord('q'):\n",
    "        break\n",
    "        \n",
    "cap.release()\n",
    "cv2.destroyAllWindows()"
   ]
  },
  {
   "cell_type": "markdown",
   "id": "cfa54ca8",
   "metadata": {},
   "source": [
    "# 3. 도형그리기"
   ]
  },
  {
   "cell_type": "markdown",
   "id": "9306038d",
   "metadata": {},
   "source": [
    "## 빈 스케치북 만들기"
   ]
  },
  {
   "cell_type": "code",
   "execution_count": 27,
   "id": "6c5b9b61",
   "metadata": {},
   "outputs": [],
   "source": [
    "import cv2\n",
    "import numpy as np\n",
    "\n",
    "img = np.zeros((480,640,3),dtype = np.uint8) \n",
    "cv2.imshow('img',img)\n",
    "cv2.waitKey(0)\n",
    "cv2.destroyAllWindows()"
   ]
  },
  {
   "cell_type": "markdown",
   "id": "e47c12d4",
   "metadata": {},
   "source": [
    "## 일부 영역 색칠"
   ]
  },
  {
   "cell_type": "code",
   "execution_count": 29,
   "id": "da1f9c9f",
   "metadata": {},
   "outputs": [],
   "source": [
    "import cv2\n",
    "import numpy as np\n",
    "\n",
    "img = np.zeros((480,640,3),dtype = np.uint8) \n",
    "img[100:200, 200:300] = (255,255,255)\n",
    "\n",
    "cv2.imshow('img',img)\n",
    "cv2.waitKey(0)\n",
    "cv2.destroyAllWindows()"
   ]
  },
  {
   "cell_type": "markdown",
   "id": "1a9f6b34",
   "metadata": {},
   "source": [
    "## 직선\n",
    "직선의 종류\n",
    "\n",
    "1.cv2.LINE_4 : 상하좌우 4방향 연결된 선\n",
    "1.cv2.LINE_8 : (기본값) 대각선을 포함한 8방향\n",
    "1.cv2.LINE_AA : 부드러운 선\n"
   ]
  },
  {
   "cell_type": "code",
   "execution_count": 32,
   "id": "1445a315",
   "metadata": {},
   "outputs": [],
   "source": [
    "import cv2\n",
    "import numpy as np\n",
    "\n",
    "img = np.zeros((480,640,3),dtype = np.uint8) \n",
    "\n",
    "COLOR = (0,255,255) # BGR > 노란색\n",
    "THICKNESS = 5 # 두께\n",
    "\n",
    "cv2.line(img, (50,100),(400,50),COLOR,THICKNESS,cv2.LINE_8) # 그릴 위치, 시작 ,끝, 색, 두께, 선 종류\n",
    "cv2.line(img, (50,200),(400,150),COLOR,THICKNESS,cv2.LINE_4)\n",
    "cv2.line(img, (50,300),(400,250),COLOR,THICKNESS,cv2.LINE_AA)\n",
    "\n",
    "cv2.imshow('img',img)\n",
    "cv2.waitKey(0)\n",
    "cv2.destroyAllWindows()\n"
   ]
  },
  {
   "cell_type": "markdown",
   "id": "0160286d",
   "metadata": {},
   "source": [
    "## 원"
   ]
  },
  {
   "cell_type": "code",
   "execution_count": 2,
   "id": "67239e72",
   "metadata": {},
   "outputs": [],
   "source": [
    "import cv2\n",
    "import numpy as np\n",
    "\n",
    "img = np.zeros((480,640,3),dtype = np.uint8) \n",
    "\n",
    "COLOR = (0,255,255) # BGR > 노란색\n",
    "RADIUS = 50\n",
    "THICKNESS = 5 # 두께\n",
    "\n",
    "cv2.circle(img, (200,100),RADIUS ,COLOR,THICKNESS,cv2.LINE_8) # 그릴 위치, 중심 ,반지름, 색, 두께, 선 종류\n",
    "cv2.circle(img, (300,200),RADIUS ,COLOR,cv2.FILLED,cv2.LINE_8)\n",
    "\n",
    "cv2.imshow('img',img)\n",
    "cv2.waitKey(0)\n",
    "cv2.destroyAllWindows()\n"
   ]
  },
  {
   "cell_type": "markdown",
   "id": "34f936b9",
   "metadata": {},
   "source": [
    "## 사각형"
   ]
  },
  {
   "cell_type": "code",
   "execution_count": 36,
   "id": "9b195eca",
   "metadata": {},
   "outputs": [],
   "source": [
    "import cv2\n",
    "import numpy as np\n",
    "\n",
    "img = np.zeros((480,640,3),dtype = np.uint8) \n",
    "\n",
    "COLOR = (0,255,255) # BGR > 노란색\n",
    "THICKNESS = 5 # 두께\n",
    "\n",
    "cv2.rectangle(img, (100,100),(200,200),COLOR,THICKNESS) # 왼쪽 위, 오른쪽아래, 색, 두께\n",
    "\n",
    "cv2.rectangle(img, (400,100),(300,200),COLOR,cv2.FILLED)\n",
    "\n",
    "cv2.imshow('img',img)\n",
    "cv2.waitKey(0)\n",
    "cv2.destroyAllWindows()\n"
   ]
  },
  {
   "cell_type": "markdown",
   "id": "e0949430",
   "metadata": {},
   "source": [
    "## 다각형"
   ]
  },
  {
   "cell_type": "code",
   "execution_count": 12,
   "id": "fb223f68",
   "metadata": {},
   "outputs": [],
   "source": [
    "import cv2\n",
    "import numpy as np\n",
    "\n",
    "img = np.zeros((480,640,3),dtype = np.uint8) \n",
    "\n",
    "COLOR = (0,255,255) # BGR > 노란색\n",
    "THICKNESS = 5 # 두께\n",
    "\n",
    "pts1 = np.array([[100,100],[200,100],[100,200]])\n",
    "cv2.polylines(img,[pts1],True,COLOR,cv2.LINE_8)\n",
    "pts2 = np.array([[200,100],[300,100],[300,200]])\n",
    "cv2.polylines(img,[pts2],False,COLOR,cv2.LINE_8)\n",
    "\n",
    "cv2.polylines(img,[pts1,pts2],True,COLOR,cv2.LINE_4)\n",
    "pts3 = np.array([[[100,300],[200,300],[100,400]],[[200,300],[300,300],[300,400]]])\n",
    "cv2.fillPoly(img, pts3, COLOR, cv2.LINE_AA)\n",
    "\n",
    "cv2.imshow('img',img)\n",
    "cv2.waitKey(0)\n",
    "cv2.destroyAllWindows()"
   ]
  },
  {
   "cell_type": "markdown",
   "id": "cb603055",
   "metadata": {},
   "source": [
    "# 4. 텍스트\n",
    "## open cv에서 사용하는 글꼴 종류\n",
    "1. cv2.FONT_HERSHEY_SIMPLEX : 보통크기의 산 세리프 글꼴\n",
    "1. cv2.FONT_HERSHEY_PLAIN : 작은크기의 산 세리프 글꼴\n",
    "1. cv2.FONT_HERSHEY_SCRIPT_SIMPLEX : 필기체 스타일 글꼴\n",
    "1. cv2.FONT_HERSHEY_TRIPLEX : 보통크기의 산 세리프 글꼴\n",
    "1. cv2.FONT_ITALIC : 기울임 이탤릭체"
   ]
  },
  {
   "cell_type": "code",
   "execution_count": 13,
   "id": "3492a06c",
   "metadata": {},
   "outputs": [],
   "source": [
    "import cv2\n",
    "import numpy as np\n",
    "\n",
    "img = np.zeros((480,640,3),dtype = np.uint8) \n",
    "\n",
    "SCALE = 1\n",
    "COLOR = (255,0,0)\n",
    "THICKNESS = 1\n",
    "cv2.putText (img, \"adsfasdfasdfafd\", (20,50),cv2.FONT_HERSHEY_TRIPLEX, SCALE, COLOR, THICKNESS)\n",
    "\n",
    "cv2.imshow('img',img)\n",
    "cv2.waitKey(0)\n",
    "cv2.destroyAllWindows()"
   ]
  },
  {
   "cell_type": "markdown",
   "id": "9107040a",
   "metadata": {},
   "source": [
    "# 한글\n",
    "## 한글 우회 방법"
   ]
  },
  {
   "cell_type": "code",
   "execution_count": 19,
   "id": "15dce1de",
   "metadata": {},
   "outputs": [],
   "source": [
    "import cv2\n",
    "import numpy as np\n",
    "from PIL import ImageFont, ImageDraw, Image\n",
    "\n",
    "def myPutText(src, text, pos, font_size, font_color):\n",
    "    img_pil = Image.fromarray(src)\n",
    "    draw = ImageDraw.Draw(img_pil)\n",
    "    font = ImageFont.truetype('fonts/gulim.ttc',font_size)\n",
    "    draw.text (pos,text,font=font,fill=font_color)\n",
    "    return np.array(img_pil)\n",
    "    \n",
    "\n",
    "img = np.zeros((480,640,3),dtype = np.uint8) \n",
    "\n",
    "FONT_SIZE = 30\n",
    "COLOR = (255,0,0)\n",
    "THICKNESS = 1\n",
    "img = myPutText (img, \"안녕하세요\", (20,50),FONT_SIZE,COLOR)\n",
    "\n",
    "cv2.imshow('img',img)\n",
    "cv2.waitKey(0)\n",
    "cv2.destroyAllWindows()"
   ]
  },
  {
   "cell_type": "markdown",
   "id": "cc23717c",
   "metadata": {},
   "source": [
    "# 5. 파일저장\n",
    "## 이미지 저장"
   ]
  },
  {
   "cell_type": "code",
   "execution_count": 22,
   "id": "c75afca8",
   "metadata": {},
   "outputs": [
    {
     "name": "stdout",
     "output_type": "stream",
     "text": [
      "True\n"
     ]
    }
   ],
   "source": [
    "import cv2\n",
    "img = cv2.imread('img.jpg',cv2.IMREAD_GRAYSCALE)\n",
    "cv2.imshow('img',img)\n",
    "cv2.waitKey(0)\n",
    "cv2.destroyAllWindows()\n",
    "\n",
    "result = cv2.imwrite('img_save.jpg',img)\n",
    "print(result)"
   ]
  },
  {
   "cell_type": "markdown",
   "id": "52ec1e25",
   "metadata": {},
   "source": [
    "## 동영상저장"
   ]
  },
  {
   "cell_type": "code",
   "execution_count": 24,
   "id": "6b2f5991",
   "metadata": {},
   "outputs": [
    {
     "name": "stdout",
     "output_type": "stream",
     "text": [
      "동영상 끝\n"
     ]
    }
   ],
   "source": [
    "import cv2\n",
    "cap = cv2.VideoCapture('vedio.mp4')\n",
    "fourcc = cv2.VideoWriter_fourcc(*'DIVX')\n",
    "\n",
    "width = round(cap.get(cv2.CAP_PROP_FRAME_WIDTH))\n",
    "height  = round(cap.get(cv2.CAP_PROP_FRAME_HEIGHT))\n",
    "fps = cap.get(cv2.CAP_PROP_FPS)\n",
    "out = cv2.VideoWriter('output.avi',fourcc,fps,(width,height)) # 파일명, 코덱, fps, 크기\n",
    "while cap.isOpened(): # 동영상 올바르게 열렸는지\n",
    "    ret, frame = cap.read()  # 성공여부 , 이미지\n",
    "    if not ret :\n",
    "        print('동영상 끝')\n",
    "        break\n",
    "    cv2.imshow('vedio',frame)\n",
    "    out.write(frame)# 영상 데이터만 저장\n",
    "    if cv2.waitKey (1) == ord('q'):\n",
    "        print('q눌러서 종료')\n",
    "        break\n",
    "out.release()\n",
    "cap.release() # 자원해제\n",
    "cv2.destroyAllWindows()"
   ]
  },
  {
   "cell_type": "markdown",
   "id": "06bcac0f",
   "metadata": {},
   "source": [
    "# 6. 크기 조정\n",
    "## 이미지\n",
    "고정크기\n"
   ]
  },
  {
   "cell_type": "code",
   "execution_count": 26,
   "id": "062686de",
   "metadata": {},
   "outputs": [],
   "source": [
    "import cv2\n",
    "img = cv2.imread('img.jpg')\n",
    "dst = cv2.resize(img,(400,500))\n",
    "cv2.imshow('img',img)\n",
    "cv2.imshow('dst',dst)\n",
    "cv2.waitKey(0)\n",
    "cv2.destroyAllWindows()"
   ]
  },
  {
   "cell_type": "markdown",
   "id": "60e04c54",
   "metadata": {},
   "source": [
    "비율로 설정"
   ]
  },
  {
   "cell_type": "code",
   "execution_count": 27,
   "id": "9269fb54",
   "metadata": {},
   "outputs": [],
   "source": [
    "import cv2\n",
    "img = cv2.imread('img.jpg')\n",
    "dst = cv2.resize(img,None,fx=0.5,fy=0.5)\n",
    "cv2.imshow('img',img)\n",
    "cv2.imshow('dst',dst)\n",
    "cv2.waitKey(0)\n",
    "cv2.destroyAllWindows()"
   ]
  },
  {
   "cell_type": "markdown",
   "id": "ad289986",
   "metadata": {},
   "source": [
    "###보간법 \n",
    "이미지 비율 변경 자연스럽게\n",
    "1. cv2.INTER_AREA :  크기 줄일 때 사용\n",
    "1. cv2.INTER_CUBIC : 늘일 때 사용 속도느리나 퀄리티 좋음\n",
    "1. cv2.INTER_LINEAR : 늘일 때 사용 기본값"
   ]
  },
  {
   "cell_type": "code",
   "execution_count": 28,
   "id": "070e5fa5",
   "metadata": {},
   "outputs": [],
   "source": [
    "import cv2\n",
    "img = cv2.imread('img.jpg')\n",
    "dst = cv2.resize(img,None,fx=0.5,fy=0.5,interpolation=cv2.INTER_AREA)\n",
    "cv2.imshow('img',img)\n",
    "cv2.imshow('dst',dst)\n",
    "cv2.waitKey(0)\n",
    "cv2.destroyAllWindows()"
   ]
  },
  {
   "cell_type": "code",
   "execution_count": 29,
   "id": "119cc4af",
   "metadata": {},
   "outputs": [],
   "source": [
    "import cv2\n",
    "img = cv2.imread('img.jpg')\n",
    "dst = cv2.resize(img,None,fx=2.5,fy=2.5,interpolation=cv2.INTER_CUBIC)\n",
    "cv2.imshow('img',img)\n",
    "cv2.imshow('dst',dst)\n",
    "cv2.waitKey(0)\n",
    "cv2.destroyAllWindows()"
   ]
  },
  {
   "cell_type": "markdown",
   "id": "5d19b43b",
   "metadata": {},
   "source": [
    "동영상 크기 설정"
   ]
  },
  {
   "cell_type": "code",
   "execution_count": 31,
   "id": "9f9216a2",
   "metadata": {},
   "outputs": [
    {
     "name": "stdout",
     "output_type": "stream",
     "text": [
      "동영상 끝\n"
     ]
    }
   ],
   "source": [
    "import cv2\n",
    "cap = cv2.VideoCapture('vedio.mp4')\n",
    "\n",
    "while cap.isOpened(): # 동영상 올바르게 열렸는지\n",
    "    ret, frame = cap.read()  # 성공여부 , 이미지\n",
    "    if not ret :\n",
    "        print('동영상 끝')\n",
    "        break\n",
    "    frame_resized = cv2.resize(frame,(400,500))\n",
    "    cv2.imshow('vedio',frame_resized)\n",
    "    \n",
    "    if cv2.waitKey (1) == ord('q'):\n",
    "        print('q눌러서 종료')\n",
    "        break\n",
    "\n",
    "cap.release() # 자원해제\n",
    "cv2.destroyAllWindows()"
   ]
  },
  {
   "cell_type": "code",
   "execution_count": 33,
   "id": "010f3dd1",
   "metadata": {},
   "outputs": [
    {
     "name": "stdout",
     "output_type": "stream",
     "text": [
      "q눌러서 종료\n"
     ]
    }
   ],
   "source": [
    "import cv2\n",
    "cap = cv2.VideoCapture('vedio.mp4')\n",
    "\n",
    "while cap.isOpened(): # 동영상 올바르게 열렸는지\n",
    "    ret, frame = cap.read()  # 성공여부 , 이미지\n",
    "    if not ret :\n",
    "        print('동영상 끝')\n",
    "        break\n",
    "    frame_resized = cv2.resize(frame,None,fx=2.5,fy=2.5,interpolation=cv2.INTER_CUBIC)\n",
    "    cv2.imshow('vedio',frame_resized)\n",
    "    \n",
    "    if cv2.waitKey (1) == ord('q'):\n",
    "        print('q눌러서 종료')\n",
    "        break\n",
    "\n",
    "cap.release() # 자원해제\n",
    "cv2.destroyAllWindows()"
   ]
  },
  {
   "cell_type": "markdown",
   "id": "2c39cbe5",
   "metadata": {},
   "source": [
    "# 7.이미지 자르기\n",
    "영역을 잘라서 새로운 윈도우(창)에 표시\n"
   ]
  },
  {
   "cell_type": "code",
   "execution_count": 37,
   "id": "8a852dd0",
   "metadata": {},
   "outputs": [],
   "source": [
    "import cv2\n",
    "img = cv2.imread('img.jpg')\n",
    "# print(img.shape) (391,640,3)\n",
    "crop = img[100:200,200:400]\n",
    "cv2.imshow('img',img)\n",
    "cv2.imshow('crop',crop)\n",
    "cv2.waitKey(0)\n",
    "cv2.destroyAllWindows()"
   ]
  },
  {
   "cell_type": "markdown",
   "id": "2957c68e",
   "metadata": {},
   "source": [
    "영역을 잘라서 기존 윈도우(창)에 표시\n"
   ]
  },
  {
   "cell_type": "code",
   "execution_count": 38,
   "id": "b707a23b",
   "metadata": {},
   "outputs": [],
   "source": [
    "import cv2\n",
    "img = cv2.imread('img.jpg')\n",
    "# print(img.shape) (391,640,3)\n",
    "crop = img[100:200,200:400]\n",
    "img[100:200,400:600] = crop # 복사해서 저 위치에 집어 넣는다.\n",
    "cv2.imshow('img',img)\n",
    "cv2.waitKey(0)\n",
    "cv2.destroyAllWindows()"
   ]
  },
  {
   "cell_type": "markdown",
   "id": "e333c154",
   "metadata": {},
   "source": [
    "# 8.이미지 대칭\n",
    "## 좌우대칭"
   ]
  },
  {
   "cell_type": "code",
   "execution_count": 39,
   "id": "5a093077",
   "metadata": {},
   "outputs": [],
   "source": [
    "import cv2\n",
    "img = cv2.imread('img.jpg')\n",
    "flip_horizontal = cv2.flip(img,1)\n",
    "cv2.imshow('img',img)\n",
    "cv2.imshow('flip_horizontal',flip_horizontal)\n",
    "cv2.waitKey(0)\n",
    "cv2.destroyAllWindows()"
   ]
  },
  {
   "cell_type": "markdown",
   "id": "40fe2f06",
   "metadata": {},
   "source": [
    "## 상하대칭"
   ]
  },
  {
   "cell_type": "code",
   "execution_count": 40,
   "id": "cdbedb54",
   "metadata": {},
   "outputs": [],
   "source": [
    "import cv2\n",
    "img = cv2.imread('img.jpg')\n",
    "flip_vertical = cv2.flip(img,0)\n",
    "cv2.imshow('img',img)\n",
    "cv2.imshow('flip_vertical',flip_vertical)\n",
    "cv2.waitKey(0)\n",
    "cv2.destroyAllWindows()"
   ]
  },
  {
   "cell_type": "markdown",
   "id": "f6b17050",
   "metadata": {},
   "source": [
    "## 상하좌우대칭"
   ]
  },
  {
   "cell_type": "code",
   "execution_count": 41,
   "id": "e3fee4a8",
   "metadata": {},
   "outputs": [],
   "source": [
    "import cv2\n",
    "img = cv2.imread('img.jpg')\n",
    "flip_both = cv2.flip(img,-1)\n",
    "cv2.imshow('img',img)\n",
    "cv2.imshow('flip_both',flip_both)\n",
    "cv2.waitKey(0)\n",
    "\n",
    "cv2.destroyAllWindows()"
   ]
  },
  {
   "cell_type": "markdown",
   "id": "15ffce7d",
   "metadata": {},
   "source": [
    "# 9. 이미지 회전\n",
    "## 시계방향 90도"
   ]
  },
  {
   "cell_type": "code",
   "execution_count": 47,
   "id": "a089f2a4",
   "metadata": {},
   "outputs": [],
   "source": [
    "import cv2\n",
    "img = cv2.imread('img.jpg')\n",
    "rotate_90 = cv2.rotate(img,cv2.ROTATE_90_CLOCKWISE) # 180도 : cv2.ROTATE_180 , 270도 : cv2.ROTATE_90_COUNTERCLOCKWISE\n",
    "cv2.imshow('img',img)\n",
    "cv2.imshow('rotate_90',rotate_90)\n",
    "cv2.waitKey(0)\n",
    "\n",
    "cv2.destroyAllWindows()"
   ]
  },
  {
   "cell_type": "markdown",
   "id": "dcb467cd",
   "metadata": {},
   "source": [
    "# 10 이미지 변형 (흑백)\n",
    "전처리 : 필요없는 내용 버리기"
   ]
  },
  {
   "cell_type": "code",
   "execution_count": 3,
   "id": "9f26eafd",
   "metadata": {},
   "outputs": [],
   "source": [
    "import cv2\n",
    "img = cv2.imread('img.jpg')\n",
    "dst = cv2.cvtColor(img,cv2.COLOR_BGR2GRAY)\n",
    "cv2.imshow('img',img)\n",
    "cv2.imshow('dst',dst)\n",
    "cv2.waitKey(0)\n",
    "cv2.destroyAllWindows()"
   ]
  },
  {
   "cell_type": "markdown",
   "id": "597cd5a2",
   "metadata": {},
   "source": [
    "# 11. 이미지 변형 (흐림)\n",
    "## 가우시안 블러\n",
    "커널 사이즈 변화에 따른 흐림"
   ]
  },
  {
   "cell_type": "code",
   "execution_count": 4,
   "id": "d7264a04",
   "metadata": {},
   "outputs": [],
   "source": [
    "import cv2\n",
    "img = cv2.imread('img.jpg')\n",
    "\n",
    "kernel_3 = cv2.GaussianBlur(img, (3,3),0) # ( 3 5 7 .....)\n",
    "cv2.imshow('img',img)\n",
    "cv2.imshow('kernel_3',kernel_3)\n",
    "\n",
    "\n",
    "cv2.waitKey(0)\n",
    "cv2.destroyAllWindows()"
   ]
  },
  {
   "cell_type": "markdown",
   "id": "217113e9",
   "metadata": {},
   "source": [
    "표준 편차 변화에 따른 흐림"
   ]
  },
  {
   "cell_type": "code",
   "execution_count": 6,
   "id": "3d14eab4",
   "metadata": {},
   "outputs": [],
   "source": [
    "import cv2\n",
    "img = cv2.imread('img.jpg')\n",
    "\n",
    "kernel_3 = cv2.GaussianBlur(img, (0,0),5) # (1 ~)\n",
    "cv2.imshow('img',img)\n",
    "cv2.imshow('kernel_3',kernel_3)\n",
    "\n",
    "\n",
    "cv2.waitKey(0)\n",
    "cv2.destroyAllWindows()"
   ]
  },
  {
   "cell_type": "markdown",
   "id": "72558296",
   "metadata": {},
   "source": [
    "# 12. 이미지 변형(원근)\n",
    "## 사다리꼴 이미지 펼치기"
   ]
  },
  {
   "cell_type": "code",
   "execution_count": 12,
   "id": "92889812",
   "metadata": {},
   "outputs": [],
   "source": [
    "import cv2\n",
    "import numpy as np\n",
    "img = cv2.imread('newspaper.jpg')\n",
    "width = 640\n",
    "height = 240\n",
    "src = np.array([[511,352],[1008,345],[1122,584],[455,594]],dtype = np.float32) # 좌상, 우상, 우하, 좌하 시계방향\n",
    "dst = np.array([[0,0],[width,0],[width,height],[0,height]],dtype = np.float32) \n",
    "matrix = cv2.getPerspectiveTransform(src,dst)\n",
    "result = cv2.warpPerspective(img,matrix,(width,height))\n",
    "cv2.imshow('img',img)\n",
    "cv2.imshow('result',result)\n",
    "cv2.waitKey(0)\n",
    "cv2.destroyAllWindows()"
   ]
  },
  {
   "cell_type": "markdown",
   "id": "3d67c9b4",
   "metadata": {},
   "source": [
    "## 회전된 이미지 올바로 세우기"
   ]
  },
  {
   "cell_type": "code",
   "execution_count": 13,
   "id": "5e117ee4",
   "metadata": {},
   "outputs": [],
   "source": [
    "import cv2\n",
    "import numpy as np\n",
    "img = cv2.imread('poker.jpg')\n",
    "width = 530\n",
    "height = 710\n",
    "src = np.array([[720,143],[1133,414],[726,1007],[276,700]],dtype = np.float32) # 좌상, 우상, 우하, 좌하 시계방향\n",
    "dst = np.array([[0,0],[width,0],[width,height],[0,height]],dtype = np.float32) \n",
    "matrix = cv2.getPerspectiveTransform(src,dst)\n",
    "result = cv2.warpPerspective(img,matrix,(width,height))\n",
    "cv2.imshow('img',img)\n",
    "cv2.imshow('result',result)\n",
    "cv2.waitKey(0)\n",
    "cv2.destroyAllWindows()"
   ]
  },
  {
   "cell_type": "markdown",
   "id": "2d471b1f",
   "metadata": {},
   "source": [
    "## 미니 프로젝트 : 반자동 문서 스캐너\n",
    "### 마우스 이벤트 등록"
   ]
  },
  {
   "cell_type": "code",
   "execution_count": 1,
   "id": "edca5a4d",
   "metadata": {},
   "outputs": [],
   "source": [
    "import cv2\n",
    "def mouse_handler(event , x, y, flags, param):\n",
    "    if event == cv2.EVENT_LBUTTONDOWN:\n",
    "        print(\"왼쪽버튼 Down\")\n",
    "        print(x,y)\n",
    "    elif event == cv2.EVENT_LBUTTONUP:\n",
    "        print(\"왼쪽버튼 up\")\n",
    "        print(x,y)\n",
    "    elif event == cv2.EVENT_MOUSEMOVE:\n",
    "        print(\"마우스 이동\")\n",
    "    elif event == cv2.EVENT_LBUTTONDBLCLK:\n",
    "        print(\"더블클릭\")\n",
    "\n",
    "img = cv2.imread('poker.jpg')\n",
    "cv2.namedWindow('img') #img라는 윈도우 창 만들기\n",
    "cv2.setMouseCallback('img',mouse_handler)\n",
    "cv2.imshow('img',img)\n",
    "cv2.waitKey(0)\n",
    "cv2.destroyAllWindows()"
   ]
  },
  {
   "cell_type": "markdown",
   "id": "5876509a",
   "metadata": {},
   "source": [
    "### 프로젝트"
   ]
  },
  {
   "cell_type": "code",
   "execution_count": 11,
   "id": "368ec912",
   "metadata": {},
   "outputs": [],
   "source": [
    "import cv2\n",
    "import numpy as np\n",
    "point_list = []\n",
    "src_img = cv2.imread('poker.jpg')\n",
    "\n",
    "COLOR = (255,0,255)\n",
    "THICKNESS = 3\n",
    "drawing = False\n",
    "\n",
    "def mouse_handler(event , x, y, flags, param):\n",
    "    global drawing\n",
    "    dst_img = src_img.copy()\n",
    "    \n",
    "    if event == cv2.EVENT_LBUTTONDOWN:\n",
    "        drawing = True\n",
    "        point_list.append((x,y))\n",
    "    \n",
    "    if drawing:\n",
    "        prev_point = None # 직선의 시작점\n",
    "        for point in point_list :       \n",
    "            cv2.circle(src_img,point,5,COLOR,cv2.FILLED)\n",
    "            if prev_point:\n",
    "                cv2.line(dst_img, prev_point, point, COLOR,THICKNESS, cv2.LINE_AA)\n",
    "            prev_point = point\n",
    "        next_point = (x,y)\n",
    "        if len(point_list)== 4:\n",
    "            show_result()\n",
    "            next_point = point_list[0]\n",
    "        cv2.line(dst_img, prev_point, next_point, COLOR,THICKNESS, cv2.LINE_AA)\n",
    "\n",
    "        \n",
    "    cv2.imshow('img',dst_img)\n",
    "\n",
    "def show_result():\n",
    "    width = 530\n",
    "    height = 710\n",
    "    src =  np.float32(point_list)\n",
    "    dst = np.array([[0,0],[width,0],[width,height],[0,height]],dtype = np.float32) \n",
    "    matrix = cv2.getPerspectiveTransform(src,dst)\n",
    "    result = cv2.warpPerspective(img,matrix,(width,height))\n",
    "    cv2.imshow('result',result)\n",
    "\n",
    "\n",
    "cv2.namedWindow('img') #img라는 윈도우 창 만들기\n",
    "cv2.setMouseCallback('img',mouse_handler)\n",
    "cv2.imshow('img',src_img)\n",
    "cv2.waitKey(0)\n",
    "cv2.destroyAllWindows()"
   ]
  },
  {
   "cell_type": "markdown",
   "id": "2e235203",
   "metadata": {},
   "source": [
    "# 13. 이미지 변형 (이진화)\n",
    "흰색과 검은색으로 나눈다"
   ]
  },
  {
   "cell_type": "code",
   "execution_count": 17,
   "id": "d31f9760",
   "metadata": {},
   "outputs": [],
   "source": [
    "import cv2\n",
    "img = cv2.imread('img.jpg',cv2.IMREAD_GRAYSCALE)\n",
    "\n",
    "ret , binary = cv2.threshold(img, 127, 255, cv2.THRESH_BINARY)\n",
    "cv2.imshow('img',img)\n",
    "cv2.imshow('binary',binary)\n",
    "cv2.waitKey(0)\n",
    "cv2.destroyAllWindows()"
   ]
  },
  {
   "cell_type": "markdown",
   "id": "20e7d7cb",
   "metadata": {},
   "source": [
    "## Trackbar (값 변화에 따른 변형 확인)"
   ]
  },
  {
   "cell_type": "code",
   "execution_count": 16,
   "id": "74f7fa89",
   "metadata": {},
   "outputs": [],
   "source": [
    "import cv2\n",
    "def empty(pos):\n",
    "    pass\n",
    "\n",
    "img = cv2.imread('img.jpg',cv2.IMREAD_GRAYSCALE)\n",
    "\n",
    "name = 'Trackbar'\n",
    "cv2.namedWindow(name)\n",
    "cv2.createTrackbar('threshold', name, 127,255,empty) # 바 이름, 창 이름, 초기값, 최대값, 이벤트처리\n",
    "\n",
    "while True:\n",
    "    thresh = cv2.getTrackbarPos('threshold', name)\n",
    "    ret , binary = cv2.threshold(img, thresh, 255, cv2.THRESH_BINARY)\n",
    "    if not ret:\n",
    "        break\n",
    "    cv2.imshow(name,binary)\n",
    "    if cv2.waitKey(1) == ord('q'):\n",
    "        break\n",
    "\n",
    "\n",
    "cv2.destroyAllWindows()"
   ]
  },
  {
   "cell_type": "markdown",
   "id": "3a7dfb79",
   "metadata": {},
   "source": [
    "## Adaptive Threshold\n",
    "이미지를 작은 영역으로 나누어서 임계치 적용"
   ]
  },
  {
   "cell_type": "code",
   "execution_count": 3,
   "id": "70513483",
   "metadata": {},
   "outputs": [
    {
     "ename": "TypeError",
     "evalue": "'tuple' object is not callable",
     "output_type": "error",
     "traceback": [
      "\u001b[1;31m---------------------------------------------------------------------------\u001b[0m",
      "\u001b[1;31mTypeError\u001b[0m                                 Traceback (most recent call last)",
      "\u001b[1;31mTypeError\u001b[0m: 'tuple' object is not callable"
     ]
    },
    {
     "ename": "TypeError",
     "evalue": "'tuple' object is not callable",
     "output_type": "error",
     "traceback": [
      "\u001b[1;31m---------------------------------------------------------------------------\u001b[0m",
      "\u001b[1;31mTypeError\u001b[0m                                 Traceback (most recent call last)",
      "\u001b[1;31mTypeError\u001b[0m: 'tuple' object is not callable"
     ]
    },
    {
     "ename": "error",
     "evalue": "OpenCV(4.7.0) D:\\a\\opencv-python\\opencv-python\\opencv\\modules\\highgui\\src\\window_w32.cpp:2576: error: (-27:Null pointer) NULL window: 'Trackbar' in function 'cvGetTrackbarPos'\n",
     "output_type": "error",
     "traceback": [
      "\u001b[1;31m---------------------------------------------------------------------------\u001b[0m",
      "\u001b[1;31merror\u001b[0m                                     Traceback (most recent call last)",
      "\u001b[1;32m~\\AppData\\Local\\Temp\\ipykernel_25016\\2493947133.py\u001b[0m in \u001b[0;36m<module>\u001b[1;34m\u001b[0m\n\u001b[0;32m     11\u001b[0m \u001b[1;33m\u001b[0m\u001b[0m\n\u001b[0;32m     12\u001b[0m \u001b[1;32mwhile\u001b[0m \u001b[1;32mTrue\u001b[0m\u001b[1;33m:\u001b[0m\u001b[1;33m\u001b[0m\u001b[1;33m\u001b[0m\u001b[0m\n\u001b[1;32m---> 13\u001b[1;33m     \u001b[0mblock_size\u001b[0m \u001b[1;33m=\u001b[0m \u001b[0mcv2\u001b[0m\u001b[1;33m.\u001b[0m\u001b[0mgetTrackbarPos\u001b[0m\u001b[1;33m(\u001b[0m\u001b[1;34m'block_size'\u001b[0m\u001b[1;33m,\u001b[0m \u001b[0mname\u001b[0m\u001b[1;33m)\u001b[0m\u001b[1;33m\u001b[0m\u001b[1;33m\u001b[0m\u001b[0m\n\u001b[0m\u001b[0;32m     14\u001b[0m     \u001b[0mc\u001b[0m \u001b[1;33m=\u001b[0m \u001b[0mcv2\u001b[0m\u001b[1;33m.\u001b[0m\u001b[0mgetTrackbarPos\u001b[0m\u001b[1;33m(\u001b[0m\u001b[1;34m'c'\u001b[0m\u001b[1;33m,\u001b[0m\u001b[0mname\u001b[0m\u001b[1;33m)\u001b[0m\u001b[1;33m\u001b[0m\u001b[1;33m\u001b[0m\u001b[0m\n\u001b[0;32m     15\u001b[0m \u001b[1;33m\u001b[0m\u001b[0m\n",
      "\u001b[1;31merror\u001b[0m: OpenCV(4.7.0) D:\\a\\opencv-python\\opencv-python\\opencv\\modules\\highgui\\src\\window_w32.cpp:2576: error: (-27:Null pointer) NULL window: 'Trackbar' in function 'cvGetTrackbarPos'\n"
     ]
    }
   ],
   "source": [
    "import cv2\n",
    "def empty(pos):\n",
    "    pass\n",
    "\n",
    "img = cv2.imread('img.jpg',cv2.IMREAD_GRAYSCALE)\n",
    "\n",
    "name = 'Trackbar'\n",
    "cv2.namedWindow(name)\n",
    "cv2.createTrackbar('block_size', name, 25,100,empty) # 홀수만 가능, 1보다는 큰값\n",
    "cv2.createTrackbar('c',name,3,10,empty) # 일반적으로 양수 값 사용\n",
    "\n",
    "while True:\n",
    "    block_size = cv2.getTrackbarPos('block_size', name)\n",
    "    c = cv2.getTrackbarPos('c',name)\n",
    "    \n",
    "    if block_size <= 1 :\n",
    "        block_size = 3\n",
    "    if block_size % 2 == 0 :\n",
    "        block_size+= 1\n",
    "        \n",
    "    binary = cv2.adaptiveThreshold(img, 255, cv2.ADAPTIVE_THRESH_MEAN_C,cv2.THRESH_BINARY, block_size, c)\n",
    "    \n",
    "    cv2.imshow(name,binary)\n",
    "    if cv2.waitKey(1) == ord('q'):\n",
    "        break\n",
    "\n",
    "\n",
    "cv2.destroyAllWindows()"
   ]
  },
  {
   "cell_type": "markdown",
   "id": "645e7a26",
   "metadata": {},
   "source": [
    "# 오츠 알고리즘\n",
    "bimodal image에 사용하기 적합"
   ]
  },
  {
   "cell_type": "code",
   "execution_count": 4,
   "id": "5932a9a1",
   "metadata": {},
   "outputs": [
    {
     "name": "stdout",
     "output_type": "stream",
     "text": [
      "otsu threshold 103.0\n"
     ]
    }
   ],
   "source": [
    "import cv2\n",
    "img = cv2.imread('img.jpg',cv2.IMREAD_GRAYSCALE)\n",
    "\n",
    "ret , binary = cv2.threshold(img, 127, 255, cv2.THRESH_BINARY)\n",
    "ret , otsu = cv2.threshold(img, -1, 255, cv2.THRESH_BINARY | cv2.THRESH_OTSU)\n",
    "print('otsu threshold', ret)\n",
    "\n",
    "cv2.imshow('img',img)\n",
    "cv2.imshow('binary',binary)\n",
    "cv2.imshow('otsu',otsu)\n",
    "cv2.waitKey(0)\n",
    "cv2.destroyAllWindows()"
   ]
  },
  {
   "cell_type": "markdown",
   "id": "c3d0fccd",
   "metadata": {},
   "source": [
    "# 14. 이미지 변환 ( 팽장) \n",
    "## 이미지를 확장하여 작은 구멍을 채움\n",
    "흰색 영역의 외각 픽셀 주변에 흰색을 추가"
   ]
  },
  {
   "cell_type": "code",
   "execution_count": 11,
   "id": "e7bf071c",
   "metadata": {},
   "outputs": [],
   "source": [
    "import cv2\n",
    "import numpy as np\n",
    "\n",
    "kernal = np.ones((3,3), dtype = np.uint8)\n",
    "\n",
    "img = cv2.imread('img.jpg',cv2.IMREAD_GRAYSCALE)\n",
    "dilate1 = cv2.dilate(img,kernal, iterations=1)\n",
    "dilate2 = cv2.dilate(img,kernal, iterations=2)\n",
    "dilate3 = cv2.dilate(img,kernal, iterations=3)\n",
    "\n",
    "cv2.imshow('img',img)\n",
    "cv2.imshow('dilate1',dilate1)\n",
    "cv2.imshow('dilate2',dilate2)\n",
    "cv2.imshow('dilate3',dilate3)\n",
    "cv2.waitKey(0)\n",
    "cv2.destroyAllWindows()"
   ]
  },
  {
   "cell_type": "markdown",
   "id": "e2a79985",
   "metadata": {},
   "source": [
    "# 15. 이미지 변환 ( 침식)\n",
    "## 이미지를 깎아서 노이즈 제거\n",
    "흰색 영역의 외각 픽셀을 검은색으로 변경"
   ]
  },
  {
   "cell_type": "code",
   "execution_count": 12,
   "id": "000263a3",
   "metadata": {},
   "outputs": [],
   "source": [
    "import cv2\n",
    "import numpy as np\n",
    "\n",
    "kernel = np.ones((3,3), dtype = np.uint8)\n",
    "\n",
    "img = cv2.imread('img.jpg',cv2.IMREAD_GRAYSCALE)\n",
    "erode1 = cv2.erode(img,kernel, iterations=1)\n",
    "erode2 = cv2.erode(img,kernel, iterations=2)\n",
    "erode3 = cv2.erode(img,kernel, iterations=3)\n",
    "\n",
    "cv2.imshow('img',img)\n",
    "cv2.imshow('erode1',erode1)\n",
    "cv2.imshow('erode2',erode2)\n",
    "cv2.imshow('erode3',erode3)\n",
    "cv2.waitKey(0)\n",
    "cv2.destroyAllWindows()"
   ]
  },
  {
   "cell_type": "markdown",
   "id": "30fbddf4",
   "metadata": {},
   "source": [
    "# 16. 이미지 변환 ( 열림 & 닫힘)\n",
    "## 열림 (opening) : 침식 후 팽창. 노이즈 제거 후 살찌음\n",
    ">dilate((erode(image)))"
   ]
  },
  {
   "cell_type": "code",
   "execution_count": 13,
   "id": "23141487",
   "metadata": {},
   "outputs": [],
   "source": [
    "import cv2\n",
    "import numpy as np\n",
    "\n",
    "kernel = np.ones((3,3), dtype = np.uint8)\n",
    "\n",
    "img = cv2.imread('img.jpg',cv2.IMREAD_GRAYSCALE)\n",
    "\n",
    "erode = cv2.erode(img,kernel, iterations=3)\n",
    "dilate = cv2.dilate(erode,kernal, iterations=3)\n",
    "\n",
    "cv2.imshow('img',img)\n",
    "cv2.imshow('erode',erode)\n",
    "cv2.imshow('dilate',dilate)\n",
    "cv2.waitKey(0)\n",
    "cv2.destroyAllWindows()"
   ]
  },
  {
   "cell_type": "markdown",
   "id": "efaf5b26",
   "metadata": {},
   "source": [
    "## 닫힘 ( closing) : 팽창 후 침식. 구멍을 메운 후 다시 깎음\n",
    ">erode(dulate(image))"
   ]
  },
  {
   "cell_type": "code",
   "execution_count": 14,
   "id": "c7808493",
   "metadata": {},
   "outputs": [],
   "source": [
    "import cv2\n",
    "import numpy as np\n",
    "\n",
    "kernel = np.ones((3,3), dtype = np.uint8)\n",
    "\n",
    "img = cv2.imread('img.jpg',cv2.IMREAD_GRAYSCALE)\n",
    "\n",
    "dilate = cv2.dilate(img,kernal, iterations=3)\n",
    "erode = cv2.erode(dilate,kernel, iterations=3)\n",
    "\n",
    "\n",
    "cv2.imshow('img',img)\n",
    "cv2.imshow('erode',erode)\n",
    "cv2.imshow('dilate',dilate)\n",
    "cv2.waitKey(0)\n",
    "cv2.destroyAllWindows()"
   ]
  },
  {
   "cell_type": "markdown",
   "id": "ca594371",
   "metadata": {},
   "source": [
    "# 17. 이미지 검출( 경계선)"
   ]
  },
  {
   "cell_type": "markdown",
   "id": "8360b92d",
   "metadata": {},
   "source": [
    "## Canny Edge Detection"
   ]
  },
  {
   "cell_type": "code",
   "execution_count": 16,
   "id": "af99272b",
   "metadata": {},
   "outputs": [],
   "source": [
    "import cv2\n",
    "import numpy as np\n",
    "\n",
    "\n",
    "\n",
    "img = cv2.imread('snowman.png')\n",
    "\n",
    "canny = cv2.Canny(img,150,200) # 대상 이미지, 하위 임계값, 상위 임계값\n",
    "\n",
    "cv2.imshow('img',img)\n",
    "cv2.imshow('canny',canny)\n",
    "cv2.waitKey(0)\n",
    "cv2.destroyAllWindows()"
   ]
  },
  {
   "cell_type": "code",
   "execution_count": 23,
   "id": "7c27cab5",
   "metadata": {},
   "outputs": [
    {
     "ename": "error",
     "evalue": "OpenCV(4.7.0) D:\\a\\opencv-python\\opencv-python\\opencv\\modules\\highgui\\src\\window_w32.cpp:2576: error: (-27:Null pointer) NULL window: 'Trackbar' in function 'cvGetTrackbarPos'\n",
     "output_type": "error",
     "traceback": [
      "\u001b[1;31m---------------------------------------------------------------------------\u001b[0m",
      "\u001b[1;31merror\u001b[0m                                     Traceback (most recent call last)",
      "\u001b[1;32m~\\AppData\\Local\\Temp\\ipykernel_25016\\3635495312.py\u001b[0m in \u001b[0;36m<module>\u001b[1;34m\u001b[0m\n\u001b[0;32m     11\u001b[0m \u001b[1;33m\u001b[0m\u001b[0m\n\u001b[0;32m     12\u001b[0m \u001b[1;32mwhile\u001b[0m \u001b[1;32mTrue\u001b[0m\u001b[1;33m:\u001b[0m\u001b[1;33m\u001b[0m\u001b[1;33m\u001b[0m\u001b[0m\n\u001b[1;32m---> 13\u001b[1;33m     \u001b[0mthreshold1\u001b[0m \u001b[1;33m=\u001b[0m \u001b[0mcv2\u001b[0m\u001b[1;33m.\u001b[0m\u001b[0mgetTrackbarPos\u001b[0m\u001b[1;33m(\u001b[0m\u001b[1;34m'threshold1'\u001b[0m\u001b[1;33m,\u001b[0m\u001b[0mname\u001b[0m\u001b[1;33m)\u001b[0m\u001b[1;33m\u001b[0m\u001b[1;33m\u001b[0m\u001b[0m\n\u001b[0m\u001b[0;32m     14\u001b[0m     \u001b[0mthreshold2\u001b[0m \u001b[1;33m=\u001b[0m \u001b[0mcv2\u001b[0m\u001b[1;33m.\u001b[0m\u001b[0mgetTrackbarPos\u001b[0m\u001b[1;33m(\u001b[0m\u001b[1;34m'threshold2'\u001b[0m\u001b[1;33m,\u001b[0m\u001b[0mname\u001b[0m\u001b[1;33m)\u001b[0m\u001b[1;33m\u001b[0m\u001b[1;33m\u001b[0m\u001b[0m\n\u001b[0;32m     15\u001b[0m \u001b[1;33m\u001b[0m\u001b[0m\n",
      "\u001b[1;31merror\u001b[0m: OpenCV(4.7.0) D:\\a\\opencv-python\\opencv-python\\opencv\\modules\\highgui\\src\\window_w32.cpp:2576: error: (-27:Null pointer) NULL window: 'Trackbar' in function 'cvGetTrackbarPos'\n"
     ]
    }
   ],
   "source": [
    "import cv2\n",
    "import numpy as np\n",
    "def empty(pos):\n",
    "    pass\n",
    "\n",
    "img = cv2.imread('snowman.png')\n",
    "name = \"Trackbar\"\n",
    "cv2.namedWindow(name)\n",
    "cv2.createTrackbar('threshold1',name,0,255,empty)\n",
    "cv2.createTrackbar('threshold2',name,0,255,empty)\n",
    "\n",
    "while True:\n",
    "    threshold1 = cv2.getTrackbarPos('threshold1',name)\n",
    "    threshold2 = cv2.getTrackbarPos('threshold2',name)\n",
    "    \n",
    "    canny = cv2.Canny(img, threshold1, threshold2) # 대상 이미지, 하위 임계값, 상위 임계값\n",
    "    cv2.imshow('img',img)\n",
    "    cv2.imshow(name ,canny)\n",
    "    if cv2.waitKey(1) == ord('q'):\n",
    "        break\n",
    "\n",
    "\n",
    "cv2.destroyAllWindows()"
   ]
  },
  {
   "cell_type": "markdown",
   "id": "e275d75c",
   "metadata": {},
   "source": [
    "# 18. 이미지 검출( 윤곽선)\n",
    "## 윤곽선 : 경계선을 연결한 선\n"
   ]
  },
  {
   "cell_type": "code",
   "execution_count": 9,
   "id": "08a2eb22",
   "metadata": {},
   "outputs": [],
   "source": [
    "import cv2\n",
    "import numpy as np\n",
    "\n",
    "img = cv2.imread('card.png') # 원본이미지\n",
    "target_img = img.copy() # 사본이미지\n",
    "\n",
    "gray = cv2.cvtColor(img, cv2.COLOR_BGR2GRAY)\n",
    "ret, otsu = cv2.threshold(gray, -1, 255, cv2.THRESH_BINARY | cv2.THRESH_OTSU)\n",
    "\n",
    "contours, hierarchy = cv2.findContours(otsu, cv2.RETR_LIST, cv2.CHAIN_APPROX_NONE) \n",
    "\n",
    "COLOR = (0,200,0)\n",
    "cv2.drawContours(target_img, contours, -1, COLOR, 2) # 대상이미지, 윤곽선 정보, 인덱스, 색, 두께\n",
    "\n",
    "\n",
    "cv2.imshow('img',img)\n",
    "cv2.imshow('gray',gray)\n",
    "cv2.imshow('otsu',otsu)\n",
    "cv2.imshow('target_img',target_img)\n",
    "cv2.waitKey(0)\n",
    "cv2.destroyAllWindows()"
   ]
  },
  {
   "cell_type": "markdown",
   "id": "0f3f8f45",
   "metadata": {},
   "source": [
    "### 윤곽선 찾기 모드\n",
    "1. cv2.RETR_EXTERNAL : 가장 외각의 윤곽선만 찾음\n",
    "1. cv2.RETR_LIST : 모든 윤곽선 찾음 ( 계층 정보 없음)\n",
    "1. cv2.RETR_TREE : 모든 윤곽선 찾음 ( 계층정보를 트리 구조로 생성)"
   ]
  },
  {
   "cell_type": "code",
   "execution_count": 10,
   "id": "041261f4",
   "metadata": {},
   "outputs": [],
   "source": [
    "import cv2\n",
    "import numpy as np\n",
    "\n",
    "img = cv2.imread('card.png') # 원본이미지\n",
    "target_img = img.copy() # 사본이미지\n",
    "\n",
    "gray = cv2.cvtColor(img, cv2.COLOR_BGR2GRAY)\n",
    "ret, otsu = cv2.threshold(gray, -1, 255, cv2.THRESH_BINARY | cv2.THRESH_OTSU)\n",
    "\n",
    "contours, hierarchy = cv2.findContours(otsu, cv2.RETR_TREE, cv2.CHAIN_APPROX_NONE) \n",
    "\n",
    "COLOR = (0,200,0)\n",
    "cv2.drawContours(target_img, contours, -1, COLOR, 2) # 대상이미지, 윤곽선 정보, 인덱스, 색, 두께\n",
    "\n",
    "\n",
    "cv2.imshow('img',img)\n",
    "cv2.imshow('target_img',target_img)\n",
    "cv2.waitKey(0)\n",
    "cv2.destroyAllWindows()"
   ]
  },
  {
   "cell_type": "markdown",
   "id": "1a32d438",
   "metadata": {},
   "source": [
    "## 경계 사각형\n",
    "윤곽선의 경계면을 둘러싸는 사각형"
   ]
  },
  {
   "cell_type": "code",
   "execution_count": 11,
   "id": "56472c00",
   "metadata": {},
   "outputs": [],
   "source": [
    "import cv2\n",
    "import numpy as np\n",
    "\n",
    "img = cv2.imread('card.png') # 원본이미지\n",
    "target_img = img.copy() # 사본이미지\n",
    "\n",
    "gray = cv2.cvtColor(img, cv2.COLOR_BGR2GRAY)\n",
    "ret, otsu = cv2.threshold(gray, -1, 255, cv2.THRESH_BINARY | cv2.THRESH_OTSU)\n",
    "\n",
    "contours, hierarchy = cv2.findContours(otsu, cv2.RETR_LIST, cv2.CHAIN_APPROX_NONE) \n",
    "\n",
    "COLOR = (0,200,0)\n",
    "\n",
    "for cnt in contours:\n",
    "    x,y,width,height = cv2.boundingRect(cnt)\n",
    "    cv2.rectangle(target_img,(x,y), (x+width,y+height),COLOR,2)\n",
    "\n",
    "cv2.imshow('img',img)\n",
    "cv2.imshow('target_img',target_img)\n",
    "cv2.waitKey(0)\n",
    "cv2.destroyAllWindows()"
   ]
  },
  {
   "cell_type": "markdown",
   "id": "595e2e4c",
   "metadata": {},
   "source": [
    "## 면적\n",
    ">contourArea()"
   ]
  },
  {
   "cell_type": "code",
   "execution_count": 13,
   "id": "13bd0ea8",
   "metadata": {},
   "outputs": [],
   "source": [
    "import cv2\n",
    "import numpy as np\n",
    "\n",
    "img = cv2.imread('card.png') # 원본이미지\n",
    "target_img = img.copy() # 사본이미지\n",
    "\n",
    "gray = cv2.cvtColor(img, cv2.COLOR_BGR2GRAY)\n",
    "ret, otsu = cv2.threshold(gray, -1, 255, cv2.THRESH_BINARY | cv2.THRESH_OTSU)\n",
    "\n",
    "contours, hierarchy = cv2.findContours(otsu, cv2.RETR_LIST, cv2.CHAIN_APPROX_NONE) \n",
    "\n",
    "COLOR = (0,200,0)\n",
    "\n",
    "for cnt in contours:\n",
    "    if cv2.contourArea(cnt) > 250:\n",
    "        x,y,width,height = cv2.boundingRect(cnt)\n",
    "        cv2.rectangle(target_img,(x,y), (x+width,y+height),COLOR,2)\n",
    "\n",
    "cv2.imshow('img',img)\n",
    "cv2.imshow('target_img',target_img)\n",
    "cv2.waitKey(0)\n",
    "cv2.destroyAllWindows()"
   ]
  },
  {
   "cell_type": "markdown",
   "id": "ea5e3a57",
   "metadata": {},
   "source": [
    "## 미니 프로젝트 : 개별 카드 추출해서 파일 저장"
   ]
  },
  {
   "cell_type": "code",
   "execution_count": 16,
   "id": "54614a05",
   "metadata": {},
   "outputs": [],
   "source": [
    "import cv2\n",
    "import numpy as np\n",
    "\n",
    "img = cv2.imread('card.png') # 원본이미지\n",
    "target_img = img.copy() # 사본이미지\n",
    "\n",
    "gray = cv2.cvtColor(img, cv2.COLOR_BGR2GRAY)\n",
    "ret, otsu = cv2.threshold(gray, -1, 255, cv2.THRESH_BINARY | cv2.THRESH_OTSU)\n",
    "\n",
    "contours, hierarchy = cv2.findContours(otsu, cv2.RETR_LIST, cv2.CHAIN_APPROX_NONE) \n",
    "\n",
    "COLOR = (0,200,0)\n",
    "idx = 1\n",
    "for cnt in contours:\n",
    "    if cv2.contourArea(cnt) > 25000:\n",
    "        x,y,width,height = cv2.boundingRect(cnt)\n",
    "        cv2.rectangle(target_img,(x,y), (x+width,y+height),COLOR,2)\n",
    "        crop = img[y:y+height, x:x+width]\n",
    "        cv2.imshow(f'card_crop_{idx}.png',crop)\n",
    "        idx +=1\n",
    "        \n",
    "\n",
    "cv2.imshow('img',img)\n",
    "cv2.imshow('target_img',target_img)\n",
    "cv2.waitKey(0)\n",
    "cv2.destroyAllWindows()"
   ]
  },
  {
   "cell_type": "markdown",
   "id": "7dd4d6ac",
   "metadata": {},
   "source": [
    "# 19. 퀴즈\n",
    "## opencv를 이용하여 가로로 촬영된 영상을 세롤로 회전하는 프로그램을 작성하시오\n",
    "### 조건\n",
    "1. 회전 : 시계반대방향90도\n",
    "1. fps : 원본 4배\n",
    "1. 출력 파일명 : city_output.avi(코덱 DVIX)\n",
    "\n",
    "원본 : city.mp4"
   ]
  },
  {
   "cell_type": "code",
   "execution_count": null,
   "id": "76ff80f3",
   "metadata": {},
   "outputs": [],
   "source": [
    "import cv2\n",
    "cap = cv2.VideoCapture('vedio.mp4')\n",
    "while cap.isOpened(): # 동영상 올바르게 열렸는지\n",
    "    ret, frame = cap.read()  # 성공여부 , 이미지\n",
    "    if not ret :\n",
    "        print('동영상 끝')\n",
    "        break\n",
    "    cv2.imshow('vedio',frame)\n",
    "    \n",
    "    if cv2.waitKey (1) == ord('q'):\n",
    "        print('q눌러서 종료')\n",
    "        break\n",
    "\n",
    "cap.release() # 자원해제\n",
    "cv2.destroyAllWindows()"
   ]
  },
  {
   "cell_type": "code",
   "execution_count": null,
   "id": "59006b4e",
   "metadata": {},
   "outputs": [],
   "source": [
    "import cv2\n",
    "cap = cv2.VideoCapture('vedio.mp4')\n",
    "fourcc = cv2.VideoWriter_fourcc(*'DIVX')\n",
    "\n",
    "width = round(cap.get(cv2.CAP_PROP_FRAME_WIDTH))\n",
    "height  = round(cap.get(cv2.CAP_PROP_FRAME_HEIGHT))\n",
    "fps = cap.get(cv2.CAP_PROP_FPS)\n",
    "out = cv2.VideoWriter('output.avi',fourcc,fps,(width,height)) # 파일명, 코덱, fps, 크기\n",
    "while cap.isOpened(): # 동영상 올바르게 열렸는지\n",
    "    ret, frame = cap.read()  # 성공여부 , 이미지\n",
    "    if not ret :\n",
    "        print('동영상 끝')\n",
    "        break\n",
    "    cv2.imshow('vedio',frame)\n",
    "    out.write(frame)# 영상 데이터만 저장\n",
    "    if cv2.waitKey (1) == ord('q'):\n",
    "        print('q눌러서 종료')\n",
    "        break\n",
    "out.release()\n",
    "cap.release() # 자원해제\n",
    "cv2.destroyAllWindows()"
   ]
  },
  {
   "cell_type": "code",
   "execution_count": null,
   "id": "e52b9932",
   "metadata": {},
   "outputs": [],
   "source": [
    "import cv2\n",
    "img = cv2.imread('img.jpg')\n",
    "rotate_90 = cv2.rotate(img,cv2.ROTATE_90_CLOCKWISE) # 180도 : cv2.ROTATE_180 , 270도 : cv2.ROTATE_90_COUNTERCLOCKWISE\n",
    "cv2.imshow('img',img)\n",
    "cv2.imshow('rotate_90',rotate_90)\n",
    "cv2.waitKey(0)\n",
    "\n",
    "cv2.destroyAllWindows()"
   ]
  },
  {
   "cell_type": "code",
   "execution_count": 20,
   "id": "41a0312a",
   "metadata": {},
   "outputs": [
    {
     "name": "stdout",
     "output_type": "stream",
     "text": [
      "q눌러서 종료\n"
     ]
    }
   ],
   "source": [
    "import cv2\n",
    "cap = cv2.VideoCapture('city.mp4')\n",
    "fourcc = cv2.VideoWriter_fourcc(*'DIVX')\n",
    "\n",
    "width = round(cap.get(cv2.CAP_PROP_FRAME_WIDTH))\n",
    "height  = round(cap.get(cv2.CAP_PROP_FRAME_HEIGHT))\n",
    "fps = cap.get(cv2.CAP_PROP_FPS) \n",
    "out = cv2.VideoWriter('city_output.avi',fourcc,fps*4,(height,width)) # 파일명, 코덱, fps, 크기\n",
    "while cap.isOpened(): # 동영상 올바르게 열렸는지\n",
    "    ret, frame = cap.read()  # 성공여부 , 이미지\n",
    "    if not ret :\n",
    "        print('동영상 끝')\n",
    "        break\n",
    "    frame = cv2.rotate(frame,cv2.ROTATE_90_COUNTERCLOCKWISE)\n",
    "    cv2.imshow('vedio',frame)\n",
    "    out.write(frame)# 영상 데이터만 저장\n",
    "    if cv2.waitKey (1) == ord('q'):\n",
    "        print('q눌러서 종료')\n",
    "        break\n",
    "out.release()\n",
    "cap.release() # 자원해제\n",
    "cv2.destroyAllWindows()"
   ]
  },
  {
   "cell_type": "markdown",
   "id": "605c60a2",
   "metadata": {},
   "source": [
    "# 프로젝트 : 얼굴 인식하여 캐릭터 씌우기\n",
    "## face Detection vs face recognition"
   ]
  },
  {
   "cell_type": "code",
   "execution_count": 1,
   "id": "7410d1d5",
   "metadata": {},
   "outputs": [],
   "source": [
    "import mediapipe as mp"
   ]
  },
  {
   "cell_type": "code",
   "execution_count": 9,
   "id": "f18c9ed0",
   "metadata": {},
   "outputs": [
    {
     "name": "stdout",
     "output_type": "stream",
     "text": [
      "Ignoring empty camera frame.\n"
     ]
    }
   ],
   "source": [
    "import cv2\n",
    "import mediapipe as mp\n",
    "\n",
    "# 얼굴 찾고, 찾은 얼굴에 표시\n",
    "mp_face_detection = mp.solutions.face_detection\n",
    "mp_drawing = mp.solutions.drawing_utils\n",
    "\n",
    "\n",
    "\n",
    "cap = cv2.VideoCapture('face_vedio.mp4')\n",
    "\n",
    "\n",
    "with mp_face_detection.FaceDetection(\n",
    "    model_selection=0, min_detection_confidence=0.7) as face_detection:\n",
    "    while cap.isOpened():\n",
    "        success, image = cap.read()\n",
    "        if not success:\n",
    "            print(\"Ignoring empty camera frame.\")\n",
    "            # If loading a video, use 'break' instead of 'continue'.\n",
    "            break\n",
    "\n",
    "        # To improve performance, optionally mark the image as not writeable to\n",
    "        # pass by reference.\n",
    "        image.flags.writeable = False\n",
    "        image = cv2.cvtColor(image, cv2.COLOR_BGR2RGB)\n",
    "        results = face_detection.process(image)\n",
    "\n",
    "        # Draw the face detection annotations on the image.\n",
    "        image.flags.writeable = True\n",
    "        image = cv2.cvtColor(image, cv2.COLOR_RGB2BGR)\n",
    "        if results.detections:\n",
    "            for detection in results.detections:\n",
    "                #mp_drawing.draw_detection(image, detection)\n",
    "                keypoints = detection.location_data.relative_keypoints\n",
    "                right_eye = keypoints[0]\n",
    "                left_eye = keypoints[1]\n",
    "                h,w,_ = image.shape\n",
    "                right_eye = int(right_eye.x *w), int(right_eye.y * h)\n",
    "                left_eye = int(left_eye.x *w), int(left_eye.y * h)\n",
    "                cv2.circle(image,right_eye,50,(255,0,0),10,cv2.LINE_AA)\n",
    "                cv2.circle(image,left_eye,50,(255,0,255),10,cv2.LINE_AA)\n",
    "                \n",
    "        # Flip the image horizontally for a selfie-view display.\n",
    "        cv2.imshow('MediaPipe Face Detection', cv2.resize(image,None,fx=0.5,fy=0.5))\n",
    "        if cv2.waitKey(1)  == ord('q') :\n",
    "            break\n",
    "cap.release()\n",
    "cv2.destroyAllWindows()"
   ]
  },
  {
   "cell_type": "code",
   "execution_count": null,
   "id": "d8d191a8",
   "metadata": {},
   "outputs": [],
   "source": []
  },
  {
   "cell_type": "code",
   "execution_count": null,
   "id": "73bb7417",
   "metadata": {},
   "outputs": [],
   "source": []
  }
 ],
 "metadata": {
  "kernelspec": {
   "display_name": "Python 3 (ipykernel)",
   "language": "python",
   "name": "python3"
  },
  "language_info": {
   "codemirror_mode": {
    "name": "ipython",
    "version": 3
   },
   "file_extension": ".py",
   "mimetype": "text/x-python",
   "name": "python",
   "nbconvert_exporter": "python",
   "pygments_lexer": "ipython3",
   "version": "3.9.13"
  }
 },
 "nbformat": 4,
 "nbformat_minor": 5
}
